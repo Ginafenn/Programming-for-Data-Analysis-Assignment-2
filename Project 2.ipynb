{
 "cells": [
  {
   "cell_type": "markdown",
   "id": "75d44b91",
   "metadata": {},
   "source": [
    "# Project 2\n",
    "\n",
    "Author: Regina Fennessy\n",
    "\n",
    "***"
   ]
  },
  {
   "cell_type": "markdown",
   "id": "2a48cad7",
   "metadata": {},
   "source": [
    "## Introduction\n",
    "\n",
    "***\n",
    "\n",
    "In this project I will investigate the Wisconsin Breast Cancer dataset."
   ]
  },
  {
   "cell_type": "markdown",
   "id": "036f4594",
   "metadata": {},
   "source": [
    "## Importing Libraries\n",
    "\n",
    "***\n"
   ]
  },
  {
   "cell_type": "code",
   "execution_count": 4,
   "id": "eedbb22b",
   "metadata": {},
   "outputs": [],
   "source": [
    "# Importing numpy and renaming it \n",
    "import numpy as np\n",
    "\n",
    "# Importing pandas and renaming it \n",
    "import pandas as pd\n",
    "\n",
    "# Importing seaborn and renaming it\n",
    "import seaborn as sns\n",
    "\n",
    "# Importing matplotlib and renaming it\n",
    "import matplotlib.pyplot as plt\n",
    "\n",
    "# Importing statistics and renaming it\n",
    "import statistics as sts\n",
    "\n",
    "# Importing randrange form random\n",
    "from random import randrange, choice\n",
    "\n",
    "# Importing make_classification form sklearn.datasets\n",
    "from sklearn.datasets import make_classification\n",
    "\n",
    "# Importing GridSearchCV form sklearn.model_selection\n",
    "from sklearn.model_selection import GridSearchCV"
   ]
  },
  {
   "cell_type": "markdown",
   "id": "28be0443",
   "metadata": {},
   "source": [
    "## Dataset\n",
    "\n",
    "***\n"
   ]
  },
  {
   "cell_type": "code",
   "execution_count": 11,
   "id": "dc16e5f4",
   "metadata": {},
   "outputs": [
    {
     "name": "stderr",
     "output_type": "stream",
     "text": [
      "C:\\Users\\g025067\\Anaconda3\\lib\\site-packages\\pandas\\util\\_decorators.py:311: ParserWarning: Falling back to the 'python' engine because the 'c' engine does not support regex separators (separators > 1 char and different from '\\s+' are interpreted as regex); you can avoid this warning by specifying engine='python'.\n",
      "  return func(*args, **kwargs)\n"
     ]
    },
    {
     "name": "stdout",
     "output_type": "stream",
     "text": [
      "          ID  Clump Thickness  Uniform Cell Size  Uniform Cell Shape  \\\n",
      "0    1000025                5                  1                   1   \n",
      "1    1002945                5                  4                   4   \n",
      "2    1015425                3                  1                   1   \n",
      "3    1016277                6                  8                   8   \n",
      "4    1017023                4                  1                   1   \n",
      "..       ...              ...                ...                 ...   \n",
      "694   776715                3                  1                   1   \n",
      "695   841769                2                  1                   1   \n",
      "696   888820                5                 10                  10   \n",
      "697   897471                4                  8                   6   \n",
      "698   897471                4                  8                   8   \n",
      "\n",
      "     Marginal Adhesion  Single Epithelial Cell Size Bare Nuclei  \\\n",
      "0                    1                            2           1   \n",
      "1                    5                            7          10   \n",
      "2                    1                            2           2   \n",
      "3                    1                            3           4   \n",
      "4                    3                            2           1   \n",
      "..                 ...                          ...         ...   \n",
      "694                  1                            3           2   \n",
      "695                  1                            2           1   \n",
      "696                  3                            7           3   \n",
      "697                  4                            3           4   \n",
      "698                  5                            4           5   \n",
      "\n",
      "     Bland Chromatin  Normal Nucleoli  Mitoses  Class  \n",
      "0                  3                1        1      2  \n",
      "1                  3                2        1      2  \n",
      "2                  3                1        1      2  \n",
      "3                  3                7        1      2  \n",
      "4                  3                1        1      2  \n",
      "..               ...              ...      ...    ...  \n",
      "694                1                1        1      2  \n",
      "695                1                1        1      2  \n",
      "696                8               10        2      4  \n",
      "697               10                6        1      4  \n",
      "698               10                4        1      4  \n",
      "\n",
      "[699 rows x 11 columns]\n"
     ]
    }
   ],
   "source": [
    "# Reading in Original csv file\n",
    "df = pd.read_csv('https://archive.ics.uci.edu/ml/machine-learning-databases/breast-cancer-wisconsin/breast-cancer-wisconsin.data', sep='\\,', names= ['ID','Clump Thickness','Uniform Cell Size','Uniform Cell Shape','Marginal Adhesion','Single Epithelial Cell Size','Bare Nuclei','Bland Chromatin','Normal Nucleoli','Mitoses','Class'])\n",
    "\n",
    "print(df)\n",
    " \n",
    "# printing row header\n",
    "#print(\"Row header\")\n",
    "#print(list(df.columns))"
   ]
  },
  {
   "cell_type": "markdown",
   "id": "feb0c48d",
   "metadata": {},
   "source": [
    "## References\n",
    "\n",
    "***"
   ]
  }
 ],
 "metadata": {
  "kernelspec": {
   "display_name": "Python 3 (ipykernel)",
   "language": "python",
   "name": "python3"
  },
  "language_info": {
   "codemirror_mode": {
    "name": "ipython",
    "version": 3
   },
   "file_extension": ".py",
   "mimetype": "text/x-python",
   "name": "python",
   "nbconvert_exporter": "python",
   "pygments_lexer": "ipython3",
   "version": "3.9.7"
  }
 },
 "nbformat": 4,
 "nbformat_minor": 5
}
